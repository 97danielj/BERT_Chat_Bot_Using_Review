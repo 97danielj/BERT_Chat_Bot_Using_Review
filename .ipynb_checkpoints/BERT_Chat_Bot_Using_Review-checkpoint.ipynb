{
 "cells": [
  {
   "cell_type": "markdown",
   "id": "8cb893f4",
   "metadata": {},
   "source": [
    "# 1. 환경설정"
   ]
  },
  {
   "cell_type": "code",
   "execution_count": 1,
   "id": "1ae3b657",
   "metadata": {},
   "outputs": [],
   "source": [
    "import numpy as np\n",
    "import pandas as pd\n",
    "from numpy import dot\n",
    "from numpy.linalg import norm\n",
    "import urllib.request\n",
    "from sentence_transformers import SentenceTransformer\n",
    "import kss\n",
    "import pickle"
   ]
  },
  {
   "cell_type": "markdown",
   "id": "873d6af4",
   "metadata": {},
   "source": [
    "# 2. 데이터 로드"
   ]
  },
  {
   "cell_type": "code",
   "execution_count": 3,
   "id": "8b54ef9d",
   "metadata": {},
   "outputs": [],
   "source": [
    "with open('df.pickle', 'rb') as f:\n",
    "    df = pickle.load(f)"
   ]
  },
  {
   "cell_type": "code",
   "execution_count": 4,
   "id": "5ab217db",
   "metadata": {},
   "outputs": [
    {
     "data": {
      "text/html": [
       "<div>\n",
       "<style scoped>\n",
       "    .dataframe tbody tr th:only-of-type {\n",
       "        vertical-align: middle;\n",
       "    }\n",
       "\n",
       "    .dataframe tbody tr th {\n",
       "        vertical-align: top;\n",
       "    }\n",
       "\n",
       "    .dataframe thead th {\n",
       "        text-align: right;\n",
       "    }\n",
       "</style>\n",
       "<table border=\"1\" class=\"dataframe\">\n",
       "  <thead>\n",
       "    <tr style=\"text-align: right;\">\n",
       "      <th></th>\n",
       "      <th>Store_name</th>\n",
       "      <th>Review</th>\n",
       "      <th>Rank</th>\n",
       "      <th>Label</th>\n",
       "    </tr>\n",
       "  </thead>\n",
       "  <tbody>\n",
       "    <tr>\n",
       "      <th>0</th>\n",
       "      <td>두껍다회선생</td>\n",
       "      <td>평소 두꺼운 회를 별로 안 좋아해서 고민하다가 후기 좋길래 가봤는데 후회 없었음 두...</td>\n",
       "      <td>5.0</td>\n",
       "      <td>1</td>\n",
       "    </tr>\n",
       "    <tr>\n",
       "      <th>1</th>\n",
       "      <td>두껍다회선생</td>\n",
       "      <td>숙성회맛있어요 다만 반반이라는데 연어가 더 많네요오 연어가 단가가 싸서 이해는하지만...</td>\n",
       "      <td>4.0</td>\n",
       "      <td>1</td>\n",
       "    </tr>\n",
       "    <tr>\n",
       "      <th>2</th>\n",
       "      <td>두껍다회선생</td>\n",
       "      <td>남자 사장님친절하세요여자분은별로</td>\n",
       "      <td>4.5</td>\n",
       "      <td>1</td>\n",
       "    </tr>\n",
       "    <tr>\n",
       "      <th>3</th>\n",
       "      <td>두껍다회선생</td>\n",
       "      <td>근처에 들렸다가 밥 먹을때가 안보여서 들어갔어요 가격도 괜찮고 회도 맛있고 깔끔하니...</td>\n",
       "      <td>4.0</td>\n",
       "      <td>1</td>\n",
       "    </tr>\n",
       "    <tr>\n",
       "      <th>4</th>\n",
       "      <td>두껍다회선생</td>\n",
       "      <td>맛잇어요 존득하고활어회보다 저는 이게 더 맛잇는것같아용</td>\n",
       "      <td>5.0</td>\n",
       "      <td>1</td>\n",
       "    </tr>\n",
       "    <tr>\n",
       "      <th>...</th>\n",
       "      <td>...</td>\n",
       "      <td>...</td>\n",
       "      <td>...</td>\n",
       "      <td>...</td>\n",
       "    </tr>\n",
       "    <tr>\n",
       "      <th>59763</th>\n",
       "      <td>다해횟집</td>\n",
       "      <td>주인님 넘넘친절하고 확실하게하시내요 그리고 회는기계로설지안고 손은로직접설어맛이확실히...</td>\n",
       "      <td>4.0</td>\n",
       "      <td>1</td>\n",
       "    </tr>\n",
       "    <tr>\n",
       "      <th>59765</th>\n",
       "      <td>더참치</td>\n",
       "      <td>엄마 생신이라 평소 가던곳 아닌 더참치 처음 갔어요 만원나왔고 인 열점먹었나테이블당...</td>\n",
       "      <td>0.5</td>\n",
       "      <td>0</td>\n",
       "    </tr>\n",
       "    <tr>\n",
       "      <th>59766</th>\n",
       "      <td>더참치</td>\n",
       "      <td>참치 맛이 조금 비리대요</td>\n",
       "      <td>4.0</td>\n",
       "      <td>1</td>\n",
       "    </tr>\n",
       "    <tr>\n",
       "      <th>59767</th>\n",
       "      <td>일품</td>\n",
       "      <td>물회맛있어요매운탕도 같이줘서 굿굿</td>\n",
       "      <td>4.5</td>\n",
       "      <td>1</td>\n",
       "    </tr>\n",
       "    <tr>\n",
       "      <th>59768</th>\n",
       "      <td>일품</td>\n",
       "      <td>우럭탕 맛있어여</td>\n",
       "      <td>5.0</td>\n",
       "      <td>1</td>\n",
       "    </tr>\n",
       "  </tbody>\n",
       "</table>\n",
       "<p>57395 rows × 4 columns</p>\n",
       "</div>"
      ],
      "text/plain": [
       "      Store_name                                             Review  Rank  \\\n",
       "0         두껍다회선생  평소 두꺼운 회를 별로 안 좋아해서 고민하다가 후기 좋길래 가봤는데 후회 없었음 두...   5.0   \n",
       "1         두껍다회선생  숙성회맛있어요 다만 반반이라는데 연어가 더 많네요오 연어가 단가가 싸서 이해는하지만...   4.0   \n",
       "2         두껍다회선생                                  남자 사장님친절하세요여자분은별로   4.5   \n",
       "3         두껍다회선생  근처에 들렸다가 밥 먹을때가 안보여서 들어갔어요 가격도 괜찮고 회도 맛있고 깔끔하니...   4.0   \n",
       "4         두껍다회선생                     맛잇어요 존득하고활어회보다 저는 이게 더 맛잇는것같아용   5.0   \n",
       "...          ...                                                ...   ...   \n",
       "59763       다해횟집  주인님 넘넘친절하고 확실하게하시내요 그리고 회는기계로설지안고 손은로직접설어맛이확실히...   4.0   \n",
       "59765        더참치  엄마 생신이라 평소 가던곳 아닌 더참치 처음 갔어요 만원나왔고 인 열점먹었나테이블당...   0.5   \n",
       "59766        더참치                                      참치 맛이 조금 비리대요   4.0   \n",
       "59767         일품                                 물회맛있어요매운탕도 같이줘서 굿굿   4.5   \n",
       "59768         일품                                           우럭탕 맛있어여   5.0   \n",
       "\n",
       "       Label  \n",
       "0          1  \n",
       "1          1  \n",
       "2          1  \n",
       "3          1  \n",
       "4          1  \n",
       "...      ...  \n",
       "59763      1  \n",
       "59765      0  \n",
       "59766      1  \n",
       "59767      1  \n",
       "59768      1  \n",
       "\n",
       "[57395 rows x 4 columns]"
      ]
     },
     "execution_count": 4,
     "metadata": {},
     "output_type": "execute_result"
    }
   ],
   "source": [
    "df"
   ]
  },
  {
   "cell_type": "code",
   "execution_count": 5,
   "id": "a275c774",
   "metadata": {},
   "outputs": [],
   "source": [
    "df.reset_index(drop=True, inplace=True)"
   ]
  },
  {
   "cell_type": "code",
   "execution_count": 6,
   "id": "c7c003b1",
   "metadata": {},
   "outputs": [],
   "source": [
    "df = df[['Review', 'Label']]"
   ]
  },
  {
   "cell_type": "code",
   "execution_count": 7,
   "id": "eeb0507b",
   "metadata": {},
   "outputs": [
    {
     "data": {
      "text/html": [
       "<div>\n",
       "<style scoped>\n",
       "    .dataframe tbody tr th:only-of-type {\n",
       "        vertical-align: middle;\n",
       "    }\n",
       "\n",
       "    .dataframe tbody tr th {\n",
       "        vertical-align: top;\n",
       "    }\n",
       "\n",
       "    .dataframe thead th {\n",
       "        text-align: right;\n",
       "    }\n",
       "</style>\n",
       "<table border=\"1\" class=\"dataframe\">\n",
       "  <thead>\n",
       "    <tr style=\"text-align: right;\">\n",
       "      <th></th>\n",
       "      <th>Review</th>\n",
       "      <th>Label</th>\n",
       "    </tr>\n",
       "  </thead>\n",
       "  <tbody>\n",
       "    <tr>\n",
       "      <th>0</th>\n",
       "      <td>평소 두꺼운 회를 별로 안 좋아해서 고민하다가 후기 좋길래 가봤는데 후회 없었음 두...</td>\n",
       "      <td>1</td>\n",
       "    </tr>\n",
       "    <tr>\n",
       "      <th>1</th>\n",
       "      <td>숙성회맛있어요 다만 반반이라는데 연어가 더 많네요오 연어가 단가가 싸서 이해는하지만...</td>\n",
       "      <td>1</td>\n",
       "    </tr>\n",
       "    <tr>\n",
       "      <th>2</th>\n",
       "      <td>남자 사장님친절하세요여자분은별로</td>\n",
       "      <td>1</td>\n",
       "    </tr>\n",
       "    <tr>\n",
       "      <th>3</th>\n",
       "      <td>근처에 들렸다가 밥 먹을때가 안보여서 들어갔어요 가격도 괜찮고 회도 맛있고 깔끔하니...</td>\n",
       "      <td>1</td>\n",
       "    </tr>\n",
       "    <tr>\n",
       "      <th>4</th>\n",
       "      <td>맛잇어요 존득하고활어회보다 저는 이게 더 맛잇는것같아용</td>\n",
       "      <td>1</td>\n",
       "    </tr>\n",
       "    <tr>\n",
       "      <th>...</th>\n",
       "      <td>...</td>\n",
       "      <td>...</td>\n",
       "    </tr>\n",
       "    <tr>\n",
       "      <th>57390</th>\n",
       "      <td>주인님 넘넘친절하고 확실하게하시내요 그리고 회는기계로설지안고 손은로직접설어맛이확실히...</td>\n",
       "      <td>1</td>\n",
       "    </tr>\n",
       "    <tr>\n",
       "      <th>57391</th>\n",
       "      <td>엄마 생신이라 평소 가던곳 아닌 더참치 처음 갔어요 만원나왔고 인 열점먹었나테이블당...</td>\n",
       "      <td>0</td>\n",
       "    </tr>\n",
       "    <tr>\n",
       "      <th>57392</th>\n",
       "      <td>참치 맛이 조금 비리대요</td>\n",
       "      <td>1</td>\n",
       "    </tr>\n",
       "    <tr>\n",
       "      <th>57393</th>\n",
       "      <td>물회맛있어요매운탕도 같이줘서 굿굿</td>\n",
       "      <td>1</td>\n",
       "    </tr>\n",
       "    <tr>\n",
       "      <th>57394</th>\n",
       "      <td>우럭탕 맛있어여</td>\n",
       "      <td>1</td>\n",
       "    </tr>\n",
       "  </tbody>\n",
       "</table>\n",
       "<p>57395 rows × 2 columns</p>\n",
       "</div>"
      ],
      "text/plain": [
       "                                                  Review  Label\n",
       "0      평소 두꺼운 회를 별로 안 좋아해서 고민하다가 후기 좋길래 가봤는데 후회 없었음 두...      1\n",
       "1      숙성회맛있어요 다만 반반이라는데 연어가 더 많네요오 연어가 단가가 싸서 이해는하지만...      1\n",
       "2                                      남자 사장님친절하세요여자분은별로      1\n",
       "3      근처에 들렸다가 밥 먹을때가 안보여서 들어갔어요 가격도 괜찮고 회도 맛있고 깔끔하니...      1\n",
       "4                         맛잇어요 존득하고활어회보다 저는 이게 더 맛잇는것같아용      1\n",
       "...                                                  ...    ...\n",
       "57390  주인님 넘넘친절하고 확실하게하시내요 그리고 회는기계로설지안고 손은로직접설어맛이확실히...      1\n",
       "57391  엄마 생신이라 평소 가던곳 아닌 더참치 처음 갔어요 만원나왔고 인 열점먹었나테이블당...      0\n",
       "57392                                      참치 맛이 조금 비리대요      1\n",
       "57393                                 물회맛있어요매운탕도 같이줘서 굿굿      1\n",
       "57394                                           우럭탕 맛있어여      1\n",
       "\n",
       "[57395 rows x 2 columns]"
      ]
     },
     "execution_count": 7,
     "metadata": {},
     "output_type": "execute_result"
    }
   ],
   "source": [
    "df"
   ]
  },
  {
   "cell_type": "markdown",
   "id": "28ae4f85",
   "metadata": {},
   "source": [
    "# 3. 데이터 전처리"
   ]
  },
  {
   "cell_type": "code",
   "execution_count": 12,
   "id": "356dce2a",
   "metadata": {},
   "outputs": [
    {
     "name": "stderr",
     "output_type": "stream",
     "text": [
      "100%|███████████████████████████████████████████████████████████████████| 57395/57395 [01:06<00:00, 857.64it/s]\n"
     ]
    }
   ],
   "source": [
    "from tqdm import tqdm\n",
    "Q_list = list()\n",
    "A_list = list()\n",
    "for review in tqdm(df['Review']):\n",
    "    for idx, sent in enumerate(kss.split_sentences(review)):\n",
    "        if idx == 0:\n",
    "            Q_list.append(sent)\n",
    "        elif idx == 1:\n",
    "            A_list.append(sent)"
   ]
  },
  {
   "cell_type": "code",
   "execution_count": 15,
   "id": "91a03b87",
   "metadata": {},
   "outputs": [
    {
     "name": "stderr",
     "output_type": "stream",
     "text": [
      "C:\\Users\\DanielJeong\\AppData\\Local\\Temp\\ipykernel_26888\\81817352.py:1: SettingWithCopyWarning: \n",
      "A value is trying to be set on a copy of a slice from a DataFrame.\n",
      "Try using .loc[row_indexer,col_indexer] = value instead\n",
      "\n",
      "See the caveats in the documentation: https://pandas.pydata.org/pandas-docs/stable/user_guide/indexing.html#returning-a-view-versus-a-copy\n",
      "  df['Q'] = pd.Series(Q_list)\n"
     ]
    }
   ],
   "source": [
    "df['Q'] = pd.Series(Q_list)\n",
    "df['A'] = pd.Series(A_list)"
   ]
  },
  {
   "cell_type": "code",
   "execution_count": 17,
   "id": "b4d8a0d6",
   "metadata": {},
   "outputs": [],
   "source": [
    "df = df[['Q', 'A','Label']]"
   ]
  },
  {
   "cell_type": "code",
   "execution_count": 18,
   "id": "65026d85",
   "metadata": {},
   "outputs": [
    {
     "data": {
      "text/html": [
       "<div>\n",
       "<style scoped>\n",
       "    .dataframe tbody tr th:only-of-type {\n",
       "        vertical-align: middle;\n",
       "    }\n",
       "\n",
       "    .dataframe tbody tr th {\n",
       "        vertical-align: top;\n",
       "    }\n",
       "\n",
       "    .dataframe thead th {\n",
       "        text-align: right;\n",
       "    }\n",
       "</style>\n",
       "<table border=\"1\" class=\"dataframe\">\n",
       "  <thead>\n",
       "    <tr style=\"text-align: right;\">\n",
       "      <th></th>\n",
       "      <th>Q</th>\n",
       "      <th>A</th>\n",
       "      <th>Label</th>\n",
       "    </tr>\n",
       "  </thead>\n",
       "  <tbody>\n",
       "    <tr>\n",
       "      <th>0</th>\n",
       "      <td>평소 두꺼운 회를 별로 안 좋아해서 고민하다가 후기 좋길래 가봤는데 후회 없었음 두...</td>\n",
       "      <td>다만 반반이라는데 연어가 더 많네요</td>\n",
       "      <td>1</td>\n",
       "    </tr>\n",
       "    <tr>\n",
       "      <th>1</th>\n",
       "      <td>숙성회맛있어요</td>\n",
       "      <td>여자분은별로</td>\n",
       "      <td>1</td>\n",
       "    </tr>\n",
       "    <tr>\n",
       "      <th>2</th>\n",
       "      <td>남자 사장님친절하세요</td>\n",
       "      <td>가격도 괜찮고 회도 맛있고 깔끔하니 좋네요</td>\n",
       "      <td>1</td>\n",
       "    </tr>\n",
       "    <tr>\n",
       "      <th>3</th>\n",
       "      <td>근처에 들렸다가 밥 먹을때가 안보여서 들어갔어요</td>\n",
       "      <td>존득하고활어회보다 저는 이게 더 맛잇는것같아용</td>\n",
       "      <td>1</td>\n",
       "    </tr>\n",
       "    <tr>\n",
       "      <th>4</th>\n",
       "      <td>맛잇어요</td>\n",
       "      <td>잘 먹고 갑니다</td>\n",
       "      <td>1</td>\n",
       "    </tr>\n",
       "    <tr>\n",
       "      <th>...</th>\n",
       "      <td>...</td>\n",
       "      <td>...</td>\n",
       "      <td>...</td>\n",
       "    </tr>\n",
       "    <tr>\n",
       "      <th>57390</th>\n",
       "      <td>주인님 넘넘친절하고 확실하게하시내요 그리고 회는기계로설지안고 손은로직접설어맛이확실히달라요</td>\n",
       "      <td>NaN</td>\n",
       "      <td>1</td>\n",
       "    </tr>\n",
       "    <tr>\n",
       "      <th>57391</th>\n",
       "      <td>엄마 생신이라 평소 가던곳 아닌 더참치 처음 갔어요</td>\n",
       "      <td>NaN</td>\n",
       "      <td>0</td>\n",
       "    </tr>\n",
       "    <tr>\n",
       "      <th>57392</th>\n",
       "      <td>참치 맛이 조금 비리대요</td>\n",
       "      <td>NaN</td>\n",
       "      <td>1</td>\n",
       "    </tr>\n",
       "    <tr>\n",
       "      <th>57393</th>\n",
       "      <td>물회맛있어요</td>\n",
       "      <td>NaN</td>\n",
       "      <td>1</td>\n",
       "    </tr>\n",
       "    <tr>\n",
       "      <th>57394</th>\n",
       "      <td>우럭탕 맛있어여</td>\n",
       "      <td>NaN</td>\n",
       "      <td>1</td>\n",
       "    </tr>\n",
       "  </tbody>\n",
       "</table>\n",
       "<p>57395 rows × 3 columns</p>\n",
       "</div>"
      ],
      "text/plain": [
       "                                                       Q  \\\n",
       "0      평소 두꺼운 회를 별로 안 좋아해서 고민하다가 후기 좋길래 가봤는데 후회 없었음 두...   \n",
       "1                                                숙성회맛있어요   \n",
       "2                                            남자 사장님친절하세요   \n",
       "3                             근처에 들렸다가 밥 먹을때가 안보여서 들어갔어요   \n",
       "4                                                   맛잇어요   \n",
       "...                                                  ...   \n",
       "57390  주인님 넘넘친절하고 확실하게하시내요 그리고 회는기계로설지안고 손은로직접설어맛이확실히달라요   \n",
       "57391                       엄마 생신이라 평소 가던곳 아닌 더참치 처음 갔어요   \n",
       "57392                                      참치 맛이 조금 비리대요   \n",
       "57393                                             물회맛있어요   \n",
       "57394                                           우럭탕 맛있어여   \n",
       "\n",
       "                               A  Label  \n",
       "0            다만 반반이라는데 연어가 더 많네요      1  \n",
       "1                         여자분은별로      1  \n",
       "2        가격도 괜찮고 회도 맛있고 깔끔하니 좋네요      1  \n",
       "3      존득하고활어회보다 저는 이게 더 맛잇는것같아용      1  \n",
       "4                       잘 먹고 갑니다      1  \n",
       "...                          ...    ...  \n",
       "57390                        NaN      1  \n",
       "57391                        NaN      0  \n",
       "57392                        NaN      1  \n",
       "57393                        NaN      1  \n",
       "57394                        NaN      1  \n",
       "\n",
       "[57395 rows x 3 columns]"
      ]
     },
     "execution_count": 18,
     "metadata": {},
     "output_type": "execute_result"
    }
   ],
   "source": [
    "df"
   ]
  },
  {
   "cell_type": "code",
   "execution_count": 21,
   "id": "8197794e",
   "metadata": {},
   "outputs": [
    {
     "data": {
      "text/plain": [
       "Q            0\n",
       "A        25167\n",
       "Label        0\n",
       "dtype: int64"
      ]
     },
     "execution_count": 21,
     "metadata": {},
     "output_type": "execute_result"
    }
   ],
   "source": [
    "df.isnull().sum()\n",
    "# 한 문장으로 구성된 리뷰가 많았다."
   ]
  },
  {
   "cell_type": "code",
   "execution_count": 23,
   "id": "df263101",
   "metadata": {},
   "outputs": [
    {
     "name": "stderr",
     "output_type": "stream",
     "text": [
      "C:\\Users\\DanielJeong\\AppData\\Local\\Temp\\ipykernel_26888\\1625784964.py:1: SettingWithCopyWarning: \n",
      "A value is trying to be set on a copy of a slice from a DataFrame\n",
      "\n",
      "See the caveats in the documentation: https://pandas.pydata.org/pandas-docs/stable/user_guide/indexing.html#returning-a-view-versus-a-copy\n",
      "  df.dropna(subset=['A'], inplace=True)\n"
     ]
    }
   ],
   "source": [
    "df.dropna(subset=['A'], inplace=True)"
   ]
  },
  {
   "cell_type": "code",
   "execution_count": 25,
   "id": "65b401f0",
   "metadata": {},
   "outputs": [
    {
     "data": {
      "text/html": [
       "<div>\n",
       "<style scoped>\n",
       "    .dataframe tbody tr th:only-of-type {\n",
       "        vertical-align: middle;\n",
       "    }\n",
       "\n",
       "    .dataframe tbody tr th {\n",
       "        vertical-align: top;\n",
       "    }\n",
       "\n",
       "    .dataframe thead th {\n",
       "        text-align: right;\n",
       "    }\n",
       "</style>\n",
       "<table border=\"1\" class=\"dataframe\">\n",
       "  <thead>\n",
       "    <tr style=\"text-align: right;\">\n",
       "      <th></th>\n",
       "      <th>Q</th>\n",
       "      <th>A</th>\n",
       "      <th>Label</th>\n",
       "    </tr>\n",
       "  </thead>\n",
       "  <tbody>\n",
       "    <tr>\n",
       "      <th>0</th>\n",
       "      <td>평소 두꺼운 회를 별로 안 좋아해서 고민하다가 후기 좋길래 가봤는데 후회 없었음 두...</td>\n",
       "      <td>다만 반반이라는데 연어가 더 많네요</td>\n",
       "      <td>1</td>\n",
       "    </tr>\n",
       "    <tr>\n",
       "      <th>1</th>\n",
       "      <td>숙성회맛있어요</td>\n",
       "      <td>여자분은별로</td>\n",
       "      <td>1</td>\n",
       "    </tr>\n",
       "    <tr>\n",
       "      <th>2</th>\n",
       "      <td>남자 사장님친절하세요</td>\n",
       "      <td>가격도 괜찮고 회도 맛있고 깔끔하니 좋네요</td>\n",
       "      <td>1</td>\n",
       "    </tr>\n",
       "    <tr>\n",
       "      <th>3</th>\n",
       "      <td>근처에 들렸다가 밥 먹을때가 안보여서 들어갔어요</td>\n",
       "      <td>존득하고활어회보다 저는 이게 더 맛잇는것같아용</td>\n",
       "      <td>1</td>\n",
       "    </tr>\n",
       "    <tr>\n",
       "      <th>4</th>\n",
       "      <td>맛잇어요</td>\n",
       "      <td>잘 먹고 갑니다</td>\n",
       "      <td>1</td>\n",
       "    </tr>\n",
       "    <tr>\n",
       "      <th>...</th>\n",
       "      <td>...</td>\n",
       "      <td>...</td>\n",
       "      <td>...</td>\n",
       "    </tr>\n",
       "    <tr>\n",
       "      <th>32223</th>\n",
       "      <td>동암에서 괜찮아요</td>\n",
       "      <td>서비스도 엄청 좋아요</td>\n",
       "      <td>1</td>\n",
       "    </tr>\n",
       "    <tr>\n",
       "      <th>32224</th>\n",
       "      <td>매운탕 꼭 드세요</td>\n",
       "      <td>맘에듭니다</td>\n",
       "      <td>1</td>\n",
       "    </tr>\n",
       "    <tr>\n",
       "      <th>32225</th>\n",
       "      <td>저렴하고 맛있음</td>\n",
       "      <td>회맛나게잘먹먹어요</td>\n",
       "      <td>1</td>\n",
       "    </tr>\n",
       "    <tr>\n",
       "      <th>32226</th>\n",
       "      <td>사람이 넘 많아요</td>\n",
       "      <td>만원나왔고 인 열점먹었나테이블당 명 이 거 판 나왔어요</td>\n",
       "      <td>1</td>\n",
       "    </tr>\n",
       "    <tr>\n",
       "      <th>32227</th>\n",
       "      <td>저렴한가격에 신선한 회를 즐길수있어요</td>\n",
       "      <td>매운탕도 같이줘서 굿굿</td>\n",
       "      <td>1</td>\n",
       "    </tr>\n",
       "  </tbody>\n",
       "</table>\n",
       "<p>32228 rows × 3 columns</p>\n",
       "</div>"
      ],
      "text/plain": [
       "                                                       Q  \\\n",
       "0      평소 두꺼운 회를 별로 안 좋아해서 고민하다가 후기 좋길래 가봤는데 후회 없었음 두...   \n",
       "1                                                숙성회맛있어요   \n",
       "2                                            남자 사장님친절하세요   \n",
       "3                             근처에 들렸다가 밥 먹을때가 안보여서 들어갔어요   \n",
       "4                                                   맛잇어요   \n",
       "...                                                  ...   \n",
       "32223                                          동암에서 괜찮아요   \n",
       "32224                                          매운탕 꼭 드세요   \n",
       "32225                                           저렴하고 맛있음   \n",
       "32226                                          사람이 넘 많아요   \n",
       "32227                               저렴한가격에 신선한 회를 즐길수있어요   \n",
       "\n",
       "                                    A  Label  \n",
       "0                 다만 반반이라는데 연어가 더 많네요      1  \n",
       "1                              여자분은별로      1  \n",
       "2             가격도 괜찮고 회도 맛있고 깔끔하니 좋네요      1  \n",
       "3           존득하고활어회보다 저는 이게 더 맛잇는것같아용      1  \n",
       "4                            잘 먹고 갑니다      1  \n",
       "...                               ...    ...  \n",
       "32223                     서비스도 엄청 좋아요      1  \n",
       "32224                           맘에듭니다      1  \n",
       "32225                       회맛나게잘먹먹어요      1  \n",
       "32226  만원나왔고 인 열점먹었나테이블당 명 이 거 판 나왔어요      1  \n",
       "32227                    매운탕도 같이줘서 굿굿      1  \n",
       "\n",
       "[32228 rows x 3 columns]"
      ]
     },
     "execution_count": 25,
     "metadata": {},
     "output_type": "execute_result"
    }
   ],
   "source": [
    "df.reset_index(drop=True, inplace=True)\n",
    "df"
   ]
  },
  {
   "cell_type": "markdown",
   "id": "dc411fb6",
   "metadata": {},
   "source": [
    "# 4. 사전 훈련된 모델 로드"
   ]
  },
  {
   "cell_type": "code",
   "execution_count": 26,
   "id": "7d17b138",
   "metadata": {},
   "outputs": [
    {
     "data": {
      "application/vnd.jupyter.widget-view+json": {
       "model_id": "512f0573eca344569ea0dd380917a578",
       "version_major": 2,
       "version_minor": 0
      },
      "text/plain": [
       "Downloading:   0%|          | 0.00/574 [00:00<?, ?B/s]"
      ]
     },
     "metadata": {},
     "output_type": "display_data"
    },
    {
     "data": {
      "application/vnd.jupyter.widget-view+json": {
       "model_id": "aa7943421e314b9b84d3fb2dbb57f62a",
       "version_major": 2,
       "version_minor": 0
      },
      "text/plain": [
       "Downloading:   0%|          | 0.00/190 [00:00<?, ?B/s]"
      ]
     },
     "metadata": {},
     "output_type": "display_data"
    },
    {
     "data": {
      "application/vnd.jupyter.widget-view+json": {
       "model_id": "d26348a7187f4fb69c0749f39a06f0b3",
       "version_major": 2,
       "version_minor": 0
      },
      "text/plain": [
       "Downloading:   0%|          | 0.00/4.06k [00:00<?, ?B/s]"
      ]
     },
     "metadata": {},
     "output_type": "display_data"
    },
    {
     "data": {
      "application/vnd.jupyter.widget-view+json": {
       "model_id": "6947c563acd54e6eb7d8d914b282b571",
       "version_major": 2,
       "version_minor": 0
      },
      "text/plain": [
       "Downloading:   0%|          | 0.00/731 [00:00<?, ?B/s]"
      ]
     },
     "metadata": {},
     "output_type": "display_data"
    },
    {
     "data": {
      "application/vnd.jupyter.widget-view+json": {
       "model_id": "0d5e12e767234618ace88fa2f698e325",
       "version_major": 2,
       "version_minor": 0
      },
      "text/plain": [
       "Downloading:   0%|          | 0.00/122 [00:00<?, ?B/s]"
      ]
     },
     "metadata": {},
     "output_type": "display_data"
    },
    {
     "data": {
      "application/vnd.jupyter.widget-view+json": {
       "model_id": "9ce8370eaf3f4242819bb409e5060ce5",
       "version_major": 2,
       "version_minor": 0
      },
      "text/plain": [
       "Downloading:   0%|          | 0.00/1.11G [00:00<?, ?B/s]"
      ]
     },
     "metadata": {},
     "output_type": "display_data"
    },
    {
     "data": {
      "application/vnd.jupyter.widget-view+json": {
       "model_id": "845432a4794c4adfb3ca8ed3c55b6fce",
       "version_major": 2,
       "version_minor": 0
      },
      "text/plain": [
       "Downloading:   0%|          | 0.00/53.0 [00:00<?, ?B/s]"
      ]
     },
     "metadata": {},
     "output_type": "display_data"
    },
    {
     "data": {
      "application/vnd.jupyter.widget-view+json": {
       "model_id": "cf597125645f4a20b57e7d01e60251e4",
       "version_major": 2,
       "version_minor": 0
      },
      "text/plain": [
       "Downloading:   0%|          | 0.00/5.07M [00:00<?, ?B/s]"
      ]
     },
     "metadata": {},
     "output_type": "display_data"
    },
    {
     "data": {
      "application/vnd.jupyter.widget-view+json": {
       "model_id": "163991bdb8d94c119a367b52ff807fc7",
       "version_major": 2,
       "version_minor": 0
      },
      "text/plain": [
       "Downloading:   0%|          | 0.00/150 [00:00<?, ?B/s]"
      ]
     },
     "metadata": {},
     "output_type": "display_data"
    },
    {
     "data": {
      "application/vnd.jupyter.widget-view+json": {
       "model_id": "93c13f4303404e27b62dedeb6f8a9817",
       "version_major": 2,
       "version_minor": 0
      },
      "text/plain": [
       "Downloading:   0%|          | 0.00/9.10M [00:00<?, ?B/s]"
      ]
     },
     "metadata": {},
     "output_type": "display_data"
    },
    {
     "data": {
      "application/vnd.jupyter.widget-view+json": {
       "model_id": "e59c9a82052b4b1195dc85b8dc8b82c7",
       "version_major": 2,
       "version_minor": 0
      },
      "text/plain": [
       "Downloading:   0%|          | 0.00/527 [00:00<?, ?B/s]"
      ]
     },
     "metadata": {},
     "output_type": "display_data"
    },
    {
     "data": {
      "application/vnd.jupyter.widget-view+json": {
       "model_id": "0b6759f1e95c45e5948b96d479f47859",
       "version_major": 2,
       "version_minor": 0
      },
      "text/plain": [
       "Downloading:   0%|          | 0.00/229 [00:00<?, ?B/s]"
      ]
     },
     "metadata": {},
     "output_type": "display_data"
    }
   ],
   "source": [
    "# 한국어 포함 100가지 언어 지원bert-base, snli, sys-b 데이터 파인 튜닝\n",
    "model = SentenceTransformer('sentence-transformers/xlm-r-100langs-bert-base-nli-stsb-mean-tokens')"
   ]
  },
  {
   "cell_type": "code",
   "execution_count": 33,
   "id": "b3d605d3",
   "metadata": {},
   "outputs": [
    {
     "name": "stderr",
     "output_type": "stream",
     "text": [
      "C:\\Users\\DanielJeong\\AppData\\Local\\Temp\\ipykernel_26888\\4011397042.py:2: SettingWithCopyWarning: \n",
      "A value is trying to be set on a copy of a slice from a DataFrame.\n",
      "Try using .loc[row_indexer,col_indexer] = value instead\n",
      "\n",
      "See the caveats in the documentation: https://pandas.pydata.org/pandas-docs/stable/user_guide/indexing.html#returning-a-view-versus-a-copy\n",
      "  df['embedding'] = df.apply(lambda row : model.encode(row.Q), axis =1)\n"
     ]
    }
   ],
   "source": [
    "# df.Q을 문장 임베딩 한 값을 구한 후 embedding열에 저장 , axis =1 : 열방향\n",
    "df['embedding'] = df.apply(lambda row : model.encode(row.Q), axis =1)"
   ]
  },
  {
   "cell_type": "code",
   "execution_count": 34,
   "id": "96ca64f1",
   "metadata": {},
   "outputs": [],
   "source": [
    "# 두 개의 벡터로부터 코사인 유사도를 구하는 함수 cos_sim를 정의합니다.\n",
    "def cos_sim(A, B):\n",
    "    return dot(A, B) / (norm(A)*norm(B))"
   ]
  },
  {
   "cell_type": "code",
   "execution_count": 40,
   "id": "246503c7",
   "metadata": {},
   "outputs": [],
   "source": [
    "# Q가 들어오면 해당 Q의 문장 임베딩 값과 챗봇 데이터의 임베딩 열, 즉\n",
    "def return_answer(question):\n",
    "    #질문을 문장 임베딩\n",
    "    embedding = model.encode(question)\n",
    "    #score열을 정의\n",
    "    # 각 행마다 \n",
    "    df['score'] = df.apply(lambda x: cos_sim(x['embedding'], embedding), axis=1)\n",
    "    return df.loc[df['score'].idxmax()]['A']"
   ]
  },
  {
   "cell_type": "code",
   "execution_count": 36,
   "id": "d1731cfb",
   "metadata": {},
   "outputs": [
    {
     "data": {
      "text/plain": [
       "(768,)"
      ]
     },
     "execution_count": 36,
     "metadata": {},
     "output_type": "execute_result"
    }
   ],
   "source": [
    "df['embedding'][0].shape"
   ]
  },
  {
   "cell_type": "code",
   "execution_count": 37,
   "id": "8c657ebd",
   "metadata": {},
   "outputs": [
    {
     "data": {
      "text/plain": [
       "32228"
      ]
     },
     "execution_count": 37,
     "metadata": {},
     "output_type": "execute_result"
    }
   ],
   "source": [
    "len(df['embedding'])"
   ]
  },
  {
   "cell_type": "code",
   "execution_count": 38,
   "id": "6452a02f",
   "metadata": {},
   "outputs": [
    {
     "data": {
      "text/plain": [
       "pandas.core.series.Series"
      ]
     },
     "execution_count": 38,
     "metadata": {},
     "output_type": "execute_result"
    }
   ],
   "source": [
    "type(df['embedding'])"
   ]
  },
  {
   "cell_type": "code",
   "execution_count": 39,
   "id": "35f078c0",
   "metadata": {},
   "outputs": [
    {
     "data": {
      "text/plain": [
       "numpy.ndarray"
      ]
     },
     "execution_count": 39,
     "metadata": {},
     "output_type": "execute_result"
    }
   ],
   "source": [
    "type(df['embedding'][0])"
   ]
  },
  {
   "cell_type": "markdown",
   "id": "0f1c1cdd",
   "metadata": {},
   "source": [
    "# 5. 결과 학인"
   ]
  },
  {
   "cell_type": "code",
   "execution_count": 51,
   "id": "113d3f11",
   "metadata": {},
   "outputs": [
    {
     "name": "stderr",
     "output_type": "stream",
     "text": [
      "C:\\Users\\DanielJeong\\AppData\\Local\\Temp\\ipykernel_26888\\1295668094.py:7: SettingWithCopyWarning: \n",
      "A value is trying to be set on a copy of a slice from a DataFrame.\n",
      "Try using .loc[row_indexer,col_indexer] = value instead\n",
      "\n",
      "See the caveats in the documentation: https://pandas.pydata.org/pandas-docs/stable/user_guide/indexing.html#returning-a-view-versus-a-copy\n",
      "  df['score'] = df.apply(lambda x: cos_sim(x['embedding'], embedding), axis=1)\n"
     ]
    },
    {
     "data": {
      "text/plain": [
       "'게다가 가격도 좋아서 누구든지 꼭 한번 와보시길 추천합니다'"
      ]
     },
     "execution_count": 51,
     "metadata": {},
     "output_type": "execute_result"
    }
   ],
   "source": [
    "return_answer('위생상태가 불량')"
   ]
  },
  {
   "cell_type": "code",
   "execution_count": 52,
   "id": "ea89e059",
   "metadata": {},
   "outputs": [
    {
     "name": "stderr",
     "output_type": "stream",
     "text": [
      "C:\\Users\\DanielJeong\\AppData\\Local\\Temp\\ipykernel_26888\\1295668094.py:7: SettingWithCopyWarning: \n",
      "A value is trying to be set on a copy of a slice from a DataFrame.\n",
      "Try using .loc[row_indexer,col_indexer] = value instead\n",
      "\n",
      "See the caveats in the documentation: https://pandas.pydata.org/pandas-docs/stable/user_guide/indexing.html#returning-a-view-versus-a-copy\n",
      "  df['score'] = df.apply(lambda x: cos_sim(x['embedding'], embedding), axis=1)\n"
     ]
    },
    {
     "data": {
      "text/plain": [
       "'특히 매운탕 국물이 일품입니다'"
      ]
     },
     "execution_count": 52,
     "metadata": {},
     "output_type": "execute_result"
    }
   ],
   "source": [
    "return_answer('주차자리')"
   ]
  },
  {
   "cell_type": "markdown",
   "id": "2539d320",
   "metadata": {},
   "source": [
    "## 잘 작동되지 않는다.\n",
    "1. 데이터 클래스 불균형 -> 긍정리뷰가 9배 많다\n",
    "2. Q, A가 서로 맞지 않다\n",
    "    1. kss로 임의 나눔\n",
    "    2. Q, A가 서로 상호적으로 맞지 않다.\n",
    "    3. 리뷰가 3개 이상으로 나눠질 경우 정보 손실이 있다."
   ]
  },
  {
   "cell_type": "code",
   "execution_count": null,
   "id": "d74d97c8",
   "metadata": {},
   "outputs": [],
   "source": []
  }
 ],
 "metadata": {
  "kernelspec": {
   "display_name": "Python 3 (ipykernel)",
   "language": "python",
   "name": "python3"
  },
  "language_info": {
   "codemirror_mode": {
    "name": "ipython",
    "version": 3
   },
   "file_extension": ".py",
   "mimetype": "text/x-python",
   "name": "python",
   "nbconvert_exporter": "python",
   "pygments_lexer": "ipython3",
   "version": "3.9.13"
  }
 },
 "nbformat": 4,
 "nbformat_minor": 5
}
