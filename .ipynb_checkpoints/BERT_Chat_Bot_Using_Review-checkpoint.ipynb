{
 "cells": [
  {
   "cell_type": "code",
   "execution_count": 3,
   "id": "583b499a",
   "metadata": {},
   "outputs": [],
   "source": [
    "# 0. 환경설정"
   ]
  },
  {
   "cell_type": "code",
   "execution_count": 46,
   "id": "1ae3b657",
   "metadata": {},
   "outputs": [],
   "source": [
    "import numpy as np\n",
    "import pandas as pd\n",
    "from numpy import dot\n",
    "from numpy.linalg import norm\n",
    "import urllib.request\n",
    "from sentence_transformers import SentenceTransformer\n",
    "import kss\n",
    "import pickle"
   ]
  },
  {
   "cell_type": "code",
   "execution_count": 5,
   "id": "5a9803f4",
   "metadata": {},
   "outputs": [],
   "source": [
    "# 1. 데이터 로드"
   ]
  },
  {
   "cell_type": "code",
   "execution_count": 10,
   "id": "8b54ef9d",
   "metadata": {},
   "outputs": [],
   "source": [
    "with open('df.pickle', 'rb') as f:\n",
    "    df = pickle.load(f)"
   ]
  },
  {
   "cell_type": "code",
   "execution_count": 12,
   "id": "5ab217db",
   "metadata": {},
   "outputs": [
    {
     "data": {
      "text/html": [
       "<div>\n",
       "<style scoped>\n",
       "    .dataframe tbody tr th:only-of-type {\n",
       "        vertical-align: middle;\n",
       "    }\n",
       "\n",
       "    .dataframe tbody tr th {\n",
       "        vertical-align: top;\n",
       "    }\n",
       "\n",
       "    .dataframe thead th {\n",
       "        text-align: right;\n",
       "    }\n",
       "</style>\n",
       "<table border=\"1\" class=\"dataframe\">\n",
       "  <thead>\n",
       "    <tr style=\"text-align: right;\">\n",
       "      <th></th>\n",
       "      <th>Store_name</th>\n",
       "      <th>Review</th>\n",
       "      <th>Rank</th>\n",
       "      <th>Label</th>\n",
       "    </tr>\n",
       "  </thead>\n",
       "  <tbody>\n",
       "    <tr>\n",
       "      <th>0</th>\n",
       "      <td>두껍다회선생</td>\n",
       "      <td>평소 두꺼운 회를 별로 안 좋아해서 고민하다가 후기 좋길래 가봤는데 후회 없었음 두...</td>\n",
       "      <td>5.0</td>\n",
       "      <td>1</td>\n",
       "    </tr>\n",
       "    <tr>\n",
       "      <th>1</th>\n",
       "      <td>두껍다회선생</td>\n",
       "      <td>숙성회맛있어요 다만 반반이라는데 연어가 더 많네요오 연어가 단가가 싸서 이해는하지만...</td>\n",
       "      <td>4.0</td>\n",
       "      <td>1</td>\n",
       "    </tr>\n",
       "    <tr>\n",
       "      <th>2</th>\n",
       "      <td>두껍다회선생</td>\n",
       "      <td>남자 사장님친절하세요여자분은별로</td>\n",
       "      <td>4.5</td>\n",
       "      <td>1</td>\n",
       "    </tr>\n",
       "    <tr>\n",
       "      <th>3</th>\n",
       "      <td>두껍다회선생</td>\n",
       "      <td>근처에 들렸다가 밥 먹을때가 안보여서 들어갔어요 가격도 괜찮고 회도 맛있고 깔끔하니...</td>\n",
       "      <td>4.0</td>\n",
       "      <td>1</td>\n",
       "    </tr>\n",
       "    <tr>\n",
       "      <th>4</th>\n",
       "      <td>두껍다회선생</td>\n",
       "      <td>맛잇어요 존득하고활어회보다 저는 이게 더 맛잇는것같아용</td>\n",
       "      <td>5.0</td>\n",
       "      <td>1</td>\n",
       "    </tr>\n",
       "    <tr>\n",
       "      <th>...</th>\n",
       "      <td>...</td>\n",
       "      <td>...</td>\n",
       "      <td>...</td>\n",
       "      <td>...</td>\n",
       "    </tr>\n",
       "    <tr>\n",
       "      <th>59763</th>\n",
       "      <td>다해횟집</td>\n",
       "      <td>주인님 넘넘친절하고 확실하게하시내요 그리고 회는기계로설지안고 손은로직접설어맛이확실히...</td>\n",
       "      <td>4.0</td>\n",
       "      <td>1</td>\n",
       "    </tr>\n",
       "    <tr>\n",
       "      <th>59765</th>\n",
       "      <td>더참치</td>\n",
       "      <td>엄마 생신이라 평소 가던곳 아닌 더참치 처음 갔어요 만원나왔고 인 열점먹었나테이블당...</td>\n",
       "      <td>0.5</td>\n",
       "      <td>0</td>\n",
       "    </tr>\n",
       "    <tr>\n",
       "      <th>59766</th>\n",
       "      <td>더참치</td>\n",
       "      <td>참치 맛이 조금 비리대요</td>\n",
       "      <td>4.0</td>\n",
       "      <td>1</td>\n",
       "    </tr>\n",
       "    <tr>\n",
       "      <th>59767</th>\n",
       "      <td>일품</td>\n",
       "      <td>물회맛있어요매운탕도 같이줘서 굿굿</td>\n",
       "      <td>4.5</td>\n",
       "      <td>1</td>\n",
       "    </tr>\n",
       "    <tr>\n",
       "      <th>59768</th>\n",
       "      <td>일품</td>\n",
       "      <td>우럭탕 맛있어여</td>\n",
       "      <td>5.0</td>\n",
       "      <td>1</td>\n",
       "    </tr>\n",
       "  </tbody>\n",
       "</table>\n",
       "<p>57395 rows × 4 columns</p>\n",
       "</div>"
      ],
      "text/plain": [
       "      Store_name                                             Review  Rank  \\\n",
       "0         두껍다회선생  평소 두꺼운 회를 별로 안 좋아해서 고민하다가 후기 좋길래 가봤는데 후회 없었음 두...   5.0   \n",
       "1         두껍다회선생  숙성회맛있어요 다만 반반이라는데 연어가 더 많네요오 연어가 단가가 싸서 이해는하지만...   4.0   \n",
       "2         두껍다회선생                                  남자 사장님친절하세요여자분은별로   4.5   \n",
       "3         두껍다회선생  근처에 들렸다가 밥 먹을때가 안보여서 들어갔어요 가격도 괜찮고 회도 맛있고 깔끔하니...   4.0   \n",
       "4         두껍다회선생                     맛잇어요 존득하고활어회보다 저는 이게 더 맛잇는것같아용   5.0   \n",
       "...          ...                                                ...   ...   \n",
       "59763       다해횟집  주인님 넘넘친절하고 확실하게하시내요 그리고 회는기계로설지안고 손은로직접설어맛이확실히...   4.0   \n",
       "59765        더참치  엄마 생신이라 평소 가던곳 아닌 더참치 처음 갔어요 만원나왔고 인 열점먹었나테이블당...   0.5   \n",
       "59766        더참치                                      참치 맛이 조금 비리대요   4.0   \n",
       "59767         일품                                 물회맛있어요매운탕도 같이줘서 굿굿   4.5   \n",
       "59768         일품                                           우럭탕 맛있어여   5.0   \n",
       "\n",
       "       Label  \n",
       "0          1  \n",
       "1          1  \n",
       "2          1  \n",
       "3          1  \n",
       "4          1  \n",
       "...      ...  \n",
       "59763      1  \n",
       "59765      0  \n",
       "59766      1  \n",
       "59767      1  \n",
       "59768      1  \n",
       "\n",
       "[57395 rows x 4 columns]"
      ]
     },
     "execution_count": 12,
     "metadata": {},
     "output_type": "execute_result"
    }
   ],
   "source": [
    "df"
   ]
  },
  {
   "cell_type": "code",
   "execution_count": 13,
   "id": "a275c774",
   "metadata": {},
   "outputs": [],
   "source": [
    "df.reset_index(drop=True, inplace=True)"
   ]
  },
  {
   "cell_type": "code",
   "execution_count": 16,
   "id": "c7c003b1",
   "metadata": {},
   "outputs": [],
   "source": [
    "df = df[['Review', 'Label']]"
   ]
  },
  {
   "cell_type": "code",
   "execution_count": 17,
   "id": "eeb0507b",
   "metadata": {},
   "outputs": [
    {
     "data": {
      "text/html": [
       "<div>\n",
       "<style scoped>\n",
       "    .dataframe tbody tr th:only-of-type {\n",
       "        vertical-align: middle;\n",
       "    }\n",
       "\n",
       "    .dataframe tbody tr th {\n",
       "        vertical-align: top;\n",
       "    }\n",
       "\n",
       "    .dataframe thead th {\n",
       "        text-align: right;\n",
       "    }\n",
       "</style>\n",
       "<table border=\"1\" class=\"dataframe\">\n",
       "  <thead>\n",
       "    <tr style=\"text-align: right;\">\n",
       "      <th></th>\n",
       "      <th>Review</th>\n",
       "      <th>Label</th>\n",
       "    </tr>\n",
       "  </thead>\n",
       "  <tbody>\n",
       "    <tr>\n",
       "      <th>0</th>\n",
       "      <td>평소 두꺼운 회를 별로 안 좋아해서 고민하다가 후기 좋길래 가봤는데 후회 없었음 두...</td>\n",
       "      <td>1</td>\n",
       "    </tr>\n",
       "    <tr>\n",
       "      <th>1</th>\n",
       "      <td>숙성회맛있어요 다만 반반이라는데 연어가 더 많네요오 연어가 단가가 싸서 이해는하지만...</td>\n",
       "      <td>1</td>\n",
       "    </tr>\n",
       "    <tr>\n",
       "      <th>2</th>\n",
       "      <td>남자 사장님친절하세요여자분은별로</td>\n",
       "      <td>1</td>\n",
       "    </tr>\n",
       "    <tr>\n",
       "      <th>3</th>\n",
       "      <td>근처에 들렸다가 밥 먹을때가 안보여서 들어갔어요 가격도 괜찮고 회도 맛있고 깔끔하니...</td>\n",
       "      <td>1</td>\n",
       "    </tr>\n",
       "    <tr>\n",
       "      <th>4</th>\n",
       "      <td>맛잇어요 존득하고활어회보다 저는 이게 더 맛잇는것같아용</td>\n",
       "      <td>1</td>\n",
       "    </tr>\n",
       "    <tr>\n",
       "      <th>...</th>\n",
       "      <td>...</td>\n",
       "      <td>...</td>\n",
       "    </tr>\n",
       "    <tr>\n",
       "      <th>57390</th>\n",
       "      <td>주인님 넘넘친절하고 확실하게하시내요 그리고 회는기계로설지안고 손은로직접설어맛이확실히...</td>\n",
       "      <td>1</td>\n",
       "    </tr>\n",
       "    <tr>\n",
       "      <th>57391</th>\n",
       "      <td>엄마 생신이라 평소 가던곳 아닌 더참치 처음 갔어요 만원나왔고 인 열점먹었나테이블당...</td>\n",
       "      <td>0</td>\n",
       "    </tr>\n",
       "    <tr>\n",
       "      <th>57392</th>\n",
       "      <td>참치 맛이 조금 비리대요</td>\n",
       "      <td>1</td>\n",
       "    </tr>\n",
       "    <tr>\n",
       "      <th>57393</th>\n",
       "      <td>물회맛있어요매운탕도 같이줘서 굿굿</td>\n",
       "      <td>1</td>\n",
       "    </tr>\n",
       "    <tr>\n",
       "      <th>57394</th>\n",
       "      <td>우럭탕 맛있어여</td>\n",
       "      <td>1</td>\n",
       "    </tr>\n",
       "  </tbody>\n",
       "</table>\n",
       "<p>57395 rows × 2 columns</p>\n",
       "</div>"
      ],
      "text/plain": [
       "                                                  Review  Label\n",
       "0      평소 두꺼운 회를 별로 안 좋아해서 고민하다가 후기 좋길래 가봤는데 후회 없었음 두...      1\n",
       "1      숙성회맛있어요 다만 반반이라는데 연어가 더 많네요오 연어가 단가가 싸서 이해는하지만...      1\n",
       "2                                      남자 사장님친절하세요여자분은별로      1\n",
       "3      근처에 들렸다가 밥 먹을때가 안보여서 들어갔어요 가격도 괜찮고 회도 맛있고 깔끔하니...      1\n",
       "4                         맛잇어요 존득하고활어회보다 저는 이게 더 맛잇는것같아용      1\n",
       "...                                                  ...    ...\n",
       "57390  주인님 넘넘친절하고 확실하게하시내요 그리고 회는기계로설지안고 손은로직접설어맛이확실히...      1\n",
       "57391  엄마 생신이라 평소 가던곳 아닌 더참치 처음 갔어요 만원나왔고 인 열점먹었나테이블당...      0\n",
       "57392                                      참치 맛이 조금 비리대요      1\n",
       "57393                                 물회맛있어요매운탕도 같이줘서 굿굿      1\n",
       "57394                                           우럭탕 맛있어여      1\n",
       "\n",
       "[57395 rows x 2 columns]"
      ]
     },
     "execution_count": 17,
     "metadata": {},
     "output_type": "execute_result"
    }
   ],
   "source": [
    "df"
   ]
  },
  {
   "cell_type": "code",
   "execution_count": 48,
   "id": "0e25bd81",
   "metadata": {
    "scrolled": true
   },
   "outputs": [
    {
     "name": "stdout",
     "output_type": "stream",
     "text": [
      "회숙성도가 너무 좋아요 1\n"
     ]
    }
   ],
   "source": [
    "\n",
    "for idx, sent in enumerate(kss.split_sentences(df['Review'][10])):\n",
    "    Q_list.append(sent)\n",
    "    \n",
    "    A_list.append(sent)\n",
    "    "
   ]
  },
  {
   "cell_type": "code",
   "execution_count": 62,
   "id": "356dce2a",
   "metadata": {},
   "outputs": [
    {
     "name": "stderr",
     "output_type": "stream",
     "text": [
      "100%|███████████████████████████████████████████████████████████████████| 57395/57395 [01:11<00:00, 802.19it/s]\n"
     ]
    }
   ],
   "source": [
    "from tqdm import tqdm\n",
    "Q_list = list()\n",
    "A_list = list()\n",
    "for review in tqdm(df['Review']):\n",
    "    for idx, sent in enumerate(kss.split_sentences(review)):\n",
    "        if idx == 0:\n",
    "            Q_list.append(sent)\n",
    "        elif idx == 1:\n",
    "            A_list.append(sent)"
   ]
  },
  {
   "cell_type": "code",
   "execution_count": null,
   "id": "91a03b87",
   "metadata": {},
   "outputs": [],
   "source": []
  }
 ],
 "metadata": {
  "kernelspec": {
   "display_name": "Python 3 (ipykernel)",
   "language": "python",
   "name": "python3"
  },
  "language_info": {
   "codemirror_mode": {
    "name": "ipython",
    "version": 3
   },
   "file_extension": ".py",
   "mimetype": "text/x-python",
   "name": "python",
   "nbconvert_exporter": "python",
   "pygments_lexer": "ipython3",
   "version": "3.9.13"
  }
 },
 "nbformat": 4,
 "nbformat_minor": 5
}
