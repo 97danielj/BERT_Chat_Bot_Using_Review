{
 "cells": [
  {
   "cell_type": "code",
   "execution_count": 2,
   "id": "ce7c0ad5",
   "metadata": {},
   "outputs": [],
   "source": [
    "import numpy as np\n",
    "import pandas as pd\n",
    "from numpy import dot\n",
    "from numpy.linalg import norm\n",
    "import urllib.request\n",
    "from sentence_transformers import SentenceTransformer"
   ]
  },
  {
   "cell_type": "code",
   "execution_count": 3,
   "id": "b18d56d1",
   "metadata": {},
   "outputs": [
    {
     "data": {
      "text/html": [
       "<div>\n",
       "<style scoped>\n",
       "    .dataframe tbody tr th:only-of-type {\n",
       "        vertical-align: middle;\n",
       "    }\n",
       "\n",
       "    .dataframe tbody tr th {\n",
       "        vertical-align: top;\n",
       "    }\n",
       "\n",
       "    .dataframe thead th {\n",
       "        text-align: right;\n",
       "    }\n",
       "</style>\n",
       "<table border=\"1\" class=\"dataframe\">\n",
       "  <thead>\n",
       "    <tr style=\"text-align: right;\">\n",
       "      <th></th>\n",
       "      <th>Q</th>\n",
       "      <th>A</th>\n",
       "      <th>label</th>\n",
       "    </tr>\n",
       "  </thead>\n",
       "  <tbody>\n",
       "    <tr>\n",
       "      <th>0</th>\n",
       "      <td>12시 땡!</td>\n",
       "      <td>하루가 또 가네요.</td>\n",
       "      <td>0</td>\n",
       "    </tr>\n",
       "    <tr>\n",
       "      <th>1</th>\n",
       "      <td>1지망 학교 떨어졌어</td>\n",
       "      <td>위로해 드립니다.</td>\n",
       "      <td>0</td>\n",
       "    </tr>\n",
       "    <tr>\n",
       "      <th>2</th>\n",
       "      <td>3박4일 놀러가고 싶다</td>\n",
       "      <td>여행은 언제나 좋죠.</td>\n",
       "      <td>0</td>\n",
       "    </tr>\n",
       "    <tr>\n",
       "      <th>3</th>\n",
       "      <td>3박4일 정도 놀러가고 싶다</td>\n",
       "      <td>여행은 언제나 좋죠.</td>\n",
       "      <td>0</td>\n",
       "    </tr>\n",
       "    <tr>\n",
       "      <th>4</th>\n",
       "      <td>PPL 심하네</td>\n",
       "      <td>눈살이 찌푸려지죠.</td>\n",
       "      <td>0</td>\n",
       "    </tr>\n",
       "  </tbody>\n",
       "</table>\n",
       "</div>"
      ],
      "text/plain": [
       "                 Q            A  label\n",
       "0           12시 땡!   하루가 또 가네요.      0\n",
       "1      1지망 학교 떨어졌어    위로해 드립니다.      0\n",
       "2     3박4일 놀러가고 싶다  여행은 언제나 좋죠.      0\n",
       "3  3박4일 정도 놀러가고 싶다  여행은 언제나 좋죠.      0\n",
       "4          PPL 심하네   눈살이 찌푸려지죠.      0"
      ]
     },
     "execution_count": 3,
     "metadata": {},
     "output_type": "execute_result"
    }
   ],
   "source": [
    "urllib.request.urlretrieve(\"https://raw.githubusercontent.com/songys/Chatbot_data/master/ChatbotData.csv\", filename=\"ChatBotData.csv\")\n",
    "train_data = pd.read_csv('ChatBotData.csv')\n",
    "train_data.head()"
   ]
  },
  {
   "cell_type": "code",
   "execution_count": 4,
   "id": "62f82201",
   "metadata": {},
   "outputs": [],
   "source": [
    "model = SentenceTransformer('sentence-transformers/xlm-r-100langs-bert-base-nli-stsb-mean-tokens')"
   ]
  },
  {
   "cell_type": "code",
   "execution_count": 5,
   "id": "98738c91",
   "metadata": {},
   "outputs": [],
   "source": [
    "train_data['embedding'] = train_data.apply(lambda row: model.encode(row.Q), axis = 1)"
   ]
  },
  {
   "cell_type": "code",
   "execution_count": 6,
   "id": "8dde5796",
   "metadata": {},
   "outputs": [],
   "source": [
    "def cos_sim(A, B):\n",
    "    return dot(A, B)/(norm(A)*norm(B))"
   ]
  },
  {
   "cell_type": "code",
   "execution_count": 8,
   "id": "1a2c04a0",
   "metadata": {},
   "outputs": [],
   "source": [
    "def return_answer(question):\n",
    "    embedding = model.encode(question)\n",
    "    train_data['score'] = train_data.apply(lambda x: cos_sim(x['embedding'], embedding), axis=1)\n",
    "    return train_data.loc[train_data['score'].idxmax()]['A']"
   ]
  },
  {
   "cell_type": "code",
   "execution_count": 9,
   "id": "27b52f60",
   "metadata": {},
   "outputs": [
    {
     "data": {
      "text/plain": [
       "'좋은 사람이랑 결혼할 수 있을 거예요.'"
      ]
     },
     "execution_count": 9,
     "metadata": {},
     "output_type": "execute_result"
    }
   ],
   "source": [
    "return_answer('결혼하고싶어')"
   ]
  },
  {
   "cell_type": "code",
   "execution_count": 10,
   "id": "8fef8782",
   "metadata": {},
   "outputs": [
    {
     "data": {
      "text/plain": [
       "'카페인이 필요한 시간인가 봐요.'"
      ]
     },
     "execution_count": 10,
     "metadata": {},
     "output_type": "execute_result"
    }
   ],
   "source": [
    "return_answer('나랑 커피먹을래?')"
   ]
  },
  {
   "cell_type": "code",
   "execution_count": 11,
   "id": "bcad91de",
   "metadata": {},
   "outputs": [
    {
     "data": {
      "text/plain": [
       "'저도 반가워요.'"
      ]
     },
     "execution_count": 11,
     "metadata": {},
     "output_type": "execute_result"
    }
   ],
   "source": [
    "return_answer('반가워')"
   ]
  },
  {
   "cell_type": "code",
   "execution_count": 12,
   "id": "0b1f7997",
   "metadata": {},
   "outputs": [
    {
     "data": {
      "text/plain": [
       "'상대방에게 전해보세요.'"
      ]
     },
     "execution_count": 12,
     "metadata": {},
     "output_type": "execute_result"
    }
   ],
   "source": [
    "return_answer('사랑해')"
   ]
  },
  {
   "cell_type": "code",
   "execution_count": 13,
   "id": "2c292232",
   "metadata": {},
   "outputs": [
    {
     "data": {
      "text/plain": [
       "'저는 위로봇입니다.'"
      ]
     },
     "execution_count": 13,
     "metadata": {},
     "output_type": "execute_result"
    }
   ],
   "source": [
    "return_answer('너는 누구니?')"
   ]
  },
  {
   "cell_type": "code",
   "execution_count": 14,
   "id": "4e24d169",
   "metadata": {},
   "outputs": [
    {
     "data": {
      "text/plain": [
       "'짜증날 땐 짜장면'"
      ]
     },
     "execution_count": 14,
     "metadata": {},
     "output_type": "execute_result"
    }
   ],
   "source": [
    "return_answer('너무 짜증나')"
   ]
  },
  {
   "cell_type": "code",
   "execution_count": 15,
   "id": "3cd29acb",
   "metadata": {},
   "outputs": [
    {
     "data": {
      "text/plain": [
       "'화를 참는 연습을 해보세요.'"
      ]
     },
     "execution_count": 15,
     "metadata": {},
     "output_type": "execute_result"
    }
   ],
   "source": [
    "return_answer('화가납니다')"
   ]
  },
  {
   "cell_type": "code",
   "execution_count": 16,
   "id": "2208a766",
   "metadata": {},
   "outputs": [
    {
     "data": {
      "text/plain": [
       "'지금 그러고 있어요.'"
      ]
     },
     "execution_count": 16,
     "metadata": {},
     "output_type": "execute_result"
    }
   ],
   "source": [
    "return_answer('나랑 놀자')"
   ]
  },
  {
   "cell_type": "code",
   "execution_count": 17,
   "id": "3c768fc0",
   "metadata": {},
   "outputs": [
    {
     "data": {
      "text/plain": [
       "'같이 놀아요.'"
      ]
     },
     "execution_count": 17,
     "metadata": {},
     "output_type": "execute_result"
    }
   ],
   "source": [
    "return_answer('나랑 게임하자')"
   ]
  },
  {
   "cell_type": "code",
   "execution_count": 18,
   "id": "bfa7dd45",
   "metadata": {},
   "outputs": [
    {
     "data": {
      "text/plain": [
       "'씻고 푹 쉬세요.'"
      ]
     },
     "execution_count": 18,
     "metadata": {},
     "output_type": "execute_result"
    }
   ],
   "source": [
    "return_answer('출근하기싫어')"
   ]
  },
  {
   "cell_type": "code",
   "execution_count": 19,
   "id": "a22cbb43",
   "metadata": {},
   "outputs": [
    {
     "data": {
      "text/plain": [
       "'이김에 떠나보세요.'"
      ]
     },
     "execution_count": 19,
     "metadata": {},
     "output_type": "execute_result"
    }
   ],
   "source": [
    "return_answer('여행가고싶다')"
   ]
  },
  {
   "cell_type": "code",
   "execution_count": 20,
   "id": "69fbb627",
   "metadata": {},
   "outputs": [
    {
     "data": {
      "text/plain": [
       "'그런 사람이 있으면 저 좀 소개시켜주세요.'"
      ]
     },
     "execution_count": 20,
     "metadata": {},
     "output_type": "execute_result"
    }
   ],
   "source": [
    "return_answer('너 말 잘한다')"
   ]
  },
  {
   "cell_type": "code",
   "execution_count": null,
   "id": "d48b8f7c",
   "metadata": {},
   "outputs": [],
   "source": []
  }
 ],
 "metadata": {
  "kernelspec": {
   "display_name": "Python 3 (ipykernel)",
   "language": "python",
   "name": "python3"
  },
  "language_info": {
   "codemirror_mode": {
    "name": "ipython",
    "version": 3
   },
   "file_extension": ".py",
   "mimetype": "text/x-python",
   "name": "python",
   "nbconvert_exporter": "python",
   "pygments_lexer": "ipython3",
   "version": "3.9.13"
  }
 },
 "nbformat": 4,
 "nbformat_minor": 5
}
